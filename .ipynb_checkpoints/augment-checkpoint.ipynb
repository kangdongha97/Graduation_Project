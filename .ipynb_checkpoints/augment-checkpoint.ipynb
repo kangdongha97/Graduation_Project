{
 "cells": [
  {
   "cell_type": "code",
   "execution_count": 1,
   "metadata": {},
   "outputs": [],
   "source": [
    "from keras.preprocessing import image\n",
    "from keras.preprocessing.image import ImageDataGenerator\n",
    "import os\n",
    "import shutil\n",
    "import numpy as np"
   ]
  },
  {
   "cell_type": "code",
   "execution_count": 2,
   "metadata": {},
   "outputs": [],
   "source": [
    "img_dir = 'C:/Users/KangDongha/Desktop/Image' #Image 폴더 안에 word 안의 값으로 폴더 생성 \n",
    "word = ['0', '1', '2']\n",
    "try:\n",
    "    for key in word:\n",
    "        os.makedirs(img_dir + f'\\\\{key}')\n",
    "except:\n",
    "    pass"
   ]
  },
  {
   "cell_type": "code",
   "execution_count": 3,
   "metadata": {},
   "outputs": [],
   "source": [
    "FileList = os.listdir(img_dir) #Image 폴더 안의 PNG 파일을 각각의 폴더로 이동\n",
    "FileList = [x for x in FileList if 'PNG' in x] \n",
    "for file in FileList:\n",
    "    label = file.split('-')[0]\n",
    "    targetPath = img_dir + f'\\\\{label}' #폴더 경로\n",
    "    try:\n",
    "        shutil.move(img_dir + f'\\\\{file}', targetPath + f'\\\\{file}') #현재위치, 타겟위치\n",
    "    except:\n",
    "        pass"
   ]
  },
  {
   "cell_type": "code",
   "execution_count": 4,
   "metadata": {},
   "outputs": [],
   "source": [
    "img_dir_Desktop = 'C:/Users/KangDongha/Desktop'\n",
    "word_Desktop = ['sign', 'aug']\n",
    "try:\n",
    "    for key in word_Desktop:\n",
    "        os.makedirs(img_dir_Desktop + f'\\\\{key}')\n",
    "except:\n",
    "    pass"
   ]
  },
  {
   "cell_type": "code",
   "execution_count": 14,
   "metadata": {},
   "outputs": [],
   "source": [
    "trainDataGen = ImageDataGenerator( \n",
    "                             rescale=1./255,\n",
    "                             zoom_range = [1.0,1.0],\n",
    "                             brightness_range = [1,1.0],\n",
    "                             rotation_range = False,\n",
    "                             horizontal_flip = False,\n",
    "                             vertical_flip = False,\n",
    "                             height_shift_range = 20,\n",
    "                             width_shift_range = 12) #0.2, 0.15 > 20, 12"
   ]
  },
  {
   "cell_type": "code",
   "execution_count": 15,
   "metadata": {},
   "outputs": [],
   "source": [
    "save_dir = 'C:/Users/KangDongha/Desktop/aug'\n",
    "#aug 폴더 안에 word 안의 값으로 폴더 생성 \n",
    "try:\n",
    "    for key in word:\n",
    "        os.makedirs(save_dir + f'\\\\{key}')\n",
    "except:\n",
    "    pass"
   ]
  },
  {
   "cell_type": "code",
   "execution_count": 16,
   "metadata": {
    "scrolled": false
   },
   "outputs": [
    {
     "name": "stdout",
     "output_type": "stream",
     "text": [
      "['0', '1', '2']\n",
      "23\n",
      "0\n",
      "1\n",
      "2\n",
      "3\n",
      "4\n",
      "5\n",
      "6\n",
      "7\n",
      "8\n",
      "9\n",
      "10\n",
      "11\n",
      "12\n",
      "13\n",
      "14\n",
      "15\n",
      "16\n",
      "17\n",
      "18\n",
      "19\n",
      "20\n",
      "21\n",
      "22\n",
      "['0', '1', '2']\n",
      "37\n",
      "0\n",
      "1\n",
      "2\n",
      "3\n",
      "4\n",
      "5\n",
      "6\n",
      "7\n",
      "8\n",
      "9\n",
      "10\n",
      "11\n",
      "12\n",
      "13\n",
      "14\n",
      "15\n",
      "16\n",
      "17\n",
      "18\n",
      "19\n",
      "20\n",
      "21\n",
      "22\n",
      "23\n",
      "24\n",
      "25\n",
      "26\n",
      "27\n",
      "28\n",
      "29\n",
      "30\n",
      "31\n",
      "32\n",
      "33\n",
      "34\n",
      "35\n",
      "36\n",
      "['0', '1', '2']\n",
      "26\n",
      "0\n",
      "1\n",
      "2\n",
      "3\n",
      "4\n",
      "5\n",
      "6\n",
      "7\n",
      "8\n",
      "9\n",
      "10\n",
      "11\n",
      "12\n",
      "13\n",
      "14\n",
      "15\n",
      "16\n",
      "17\n",
      "18\n",
      "19\n",
      "20\n",
      "21\n",
      "22\n",
      "23\n",
      "24\n",
      "25\n"
     ]
    }
   ],
   "source": [
    "for img_name in word:\n",
    "    print(word)\n",
    "    img_arr = len(os.listdir(img_dir + '/' + img_name)) #img_name = 0 1 2\n",
    "    print(img_arr) #23 37 26\n",
    "    for y in range(img_arr):\n",
    "        print(y)\n",
    "        img_key = img_name + '-' + str(y) + '.PNG'\n",
    "        img_path = os.path.join(img_dir + '/' + img_name, img_key) #파일 경로, 파일 이름\n",
    "        img = image.load_img(img_path, target_size=(32,32))\n",
    "        img_tensor = image.img_to_array(img) #이미지를 배열형식으로 변환\n",
    "        img_tensor = np.expand_dims(img_tensor, axis = 0) #차원 추가\n",
    "        i = 0\n",
    "        #경로, 이름, 형식\n",
    "        for batch in trainDataGen.flow(img_tensor, batch_size=1, save_to_dir=save_dir+ '/' + img_name, save_prefix= img_name, save_format='PNG'):\n",
    "            i += 1\n",
    "            if i>49:\n",
    "                break"
   ]
  },
  {
   "cell_type": "code",
   "execution_count": 17,
   "metadata": {},
   "outputs": [
    {
     "name": "stdout",
     "output_type": "stream",
     "text": [
      "3\n",
      "23\n",
      "37\n",
      "26\n"
     ]
    }
   ],
   "source": [
    "print(len(os.listdir(img_dir)))\n",
    "for z in word:\n",
    "    print(len(os.listdir(img_dir + '/' + z)))"
   ]
  },
  {
   "cell_type": "code",
   "execution_count": 18,
   "metadata": {},
   "outputs": [
    {
     "name": "stdout",
     "output_type": "stream",
     "text": [
      "0\n",
      "23\n",
      "<class 'int'>\n",
      "0\n",
      "1\n",
      "2\n",
      "3\n",
      "4\n",
      "5\n",
      "6\n",
      "7\n",
      "8\n",
      "9\n",
      "10\n",
      "11\n",
      "12\n",
      "13\n",
      "14\n",
      "15\n",
      "16\n",
      "17\n",
      "18\n",
      "19\n",
      "20\n",
      "21\n",
      "22\n",
      "1\n",
      "37\n",
      "<class 'int'>\n",
      "0\n",
      "1\n",
      "2\n",
      "3\n",
      "4\n",
      "5\n",
      "6\n",
      "7\n",
      "8\n",
      "9\n",
      "10\n",
      "11\n",
      "12\n",
      "13\n",
      "14\n",
      "15\n",
      "16\n",
      "17\n",
      "18\n",
      "19\n",
      "20\n",
      "21\n",
      "22\n",
      "23\n",
      "24\n",
      "25\n",
      "26\n",
      "27\n",
      "28\n",
      "29\n",
      "30\n",
      "31\n",
      "32\n",
      "33\n",
      "34\n",
      "35\n",
      "36\n",
      "2\n",
      "26\n",
      "<class 'int'>\n",
      "0\n",
      "1\n",
      "2\n",
      "3\n",
      "4\n",
      "5\n",
      "6\n",
      "7\n",
      "8\n",
      "9\n",
      "10\n",
      "11\n",
      "12\n",
      "13\n",
      "14\n",
      "15\n",
      "16\n",
      "17\n",
      "18\n",
      "19\n",
      "20\n",
      "21\n",
      "22\n",
      "23\n",
      "24\n",
      "25\n"
     ]
    }
   ],
   "source": [
    "for z in word:\n",
    "    img_arr = len(os.listdir(img_dir + '/' + z))\n",
    "    print(z)\n",
    "    print(img_arr)\n",
    "    print(type(img_arr))\n",
    "    for y in range(img_arr):\n",
    "        print(y)"
   ]
  },
  {
   "cell_type": "code",
   "execution_count": 19,
   "metadata": {},
   "outputs": [],
   "source": [
    "try:\n",
    "    shutil.move('C:/Users/KangDongha/Desktop/Image', 'C:/Users/KangDongha/Desktop/sign') #현재위치, 타겟위치\n",
    "except:\n",
    "    pass"
   ]
  },
  {
   "cell_type": "code",
   "execution_count": 20,
   "metadata": {},
   "outputs": [],
   "source": [
    "try:\n",
    "    shutil.move('C:/Users/KangDongha/Desktop/aug', 'C:/Users/KangDongha/Desktop/sign') #현재위치, 타겟위치\n",
    "except:\n",
    "    pass"
   ]
  },
  {
   "cell_type": "code",
   "execution_count": 21,
   "metadata": {},
   "outputs": [],
   "source": [
    "try:\n",
    "    shutil.move('C:/Users/KangDongha/Desktop/labels.csv', 'C:/Users/KangDongha/Desktop/sign') #현재위치, 타겟위치\n",
    "except:\n",
    "    pass"
   ]
  },
  {
   "cell_type": "code",
   "execution_count": 22,
   "metadata": {},
   "outputs": [
    {
     "name": "stdout",
     "output_type": "stream",
     "text": [
      "2-25.PNG\n",
      "C:/Users/KangDongha/Desktop/Image/2\\2-25.PNG\n",
      "<PIL.Image.Image image mode=RGB size=32x32 at 0x2C7E2BC11C0>\n",
      "C:/Users/KangDongha/Desktop/aug\n",
      "2\n"
     ]
    }
   ],
   "source": [
    "print(img_key)\n",
    "print(img_path)\n",
    "print(img)\n",
    "print(save_dir)\n",
    "print(img_name)"
   ]
  }
 ],
 "metadata": {
  "kernelspec": {
   "display_name": "Python 3",
   "language": "python",
   "name": "python3"
  },
  "language_info": {
   "codemirror_mode": {
    "name": "ipython",
    "version": 3
   },
   "file_extension": ".py",
   "mimetype": "text/x-python",
   "name": "python",
   "nbconvert_exporter": "python",
   "pygments_lexer": "ipython3",
   "version": "3.8.10"
  }
 },
 "nbformat": 4,
 "nbformat_minor": 2
}
