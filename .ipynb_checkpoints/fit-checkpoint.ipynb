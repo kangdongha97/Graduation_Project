{
 "cells": [
  {
   "cell_type": "code",
   "execution_count": 1,
   "metadata": {},
   "outputs": [],
   "source": [
    "#학습 데이터 파일 경로\n",
    "img_path = \"C:/Users/KangDongha/Desktop/sign/aug\""
   ]
  },
  {
   "cell_type": "code",
   "execution_count": 2,
   "metadata": {},
   "outputs": [],
   "source": [
    "import os\n",
    "import cv2\n",
    "import numpy as np"
   ]
  },
  {
   "cell_type": "code",
   "execution_count": 3,
   "metadata": {},
   "outputs": [
    {
     "name": "stdout",
     "output_type": "stream",
     "text": [
      "Total Classes : 3\n",
      "Importing Classes.....\n",
      "0 1 2  \n"
     ]
    }
   ],
   "source": [
    " #aug 폴더안에 몇개의 폴더가 있는지 카운트\n",
    "count = 0\n",
    "images = []\n",
    "classNo = []\n",
    "File_List = os.listdir(img_path)\n",
    "print(\"Total Classes :\",len(File_List))\n",
    "Classes=len(File_List)\n",
    "print(\"Importing Classes.....\")\n",
    "for x in range (0,len(File_List)):\n",
    "    Pic_List = os.listdir(img_path+\"/\"+str(count)) \n",
    "    for y in Pic_List:\n",
    "        curImg = cv2.imread(img_path+\"/\"+str(count)+\"/\"+y)\n",
    "        images.append(curImg)\n",
    "        classNo.append(count) \n",
    "    print(count, end =\" \")\n",
    "    count += 1\n",
    "print(\" \")\n",
    "images = np.array(images)\n",
    "classNo = np.array(classNo)"
   ]
  },
  {
   "cell_type": "code",
   "execution_count": 4,
   "metadata": {},
   "outputs": [],
   "source": [
    "from sklearn.model_selection import train_test_split\n",
    "\n",
    "testRatio = 0.2\n",
    "validationRatio = 0.2\n",
    "\n",
    "X_train, X_test, y_train, y_test = train_test_split(images, classNo, test_size=testRatio)\n",
    "X_train, X_validation, y_train, y_validation = train_test_split(X_train, y_train, test_size=validationRatio)"
   ]
  },
  {
   "cell_type": "code",
   "execution_count": 5,
   "metadata": {},
   "outputs": [
    {
     "name": "stdout",
     "output_type": "stream",
     "text": [
      "2563\n",
      "(2563, 32, 32, 3)\n"
     ]
    }
   ],
   "source": [
    "print(len(X_train))\n",
    "print(X_train.shape)"
   ]
  },
  {
   "cell_type": "code",
   "execution_count": 6,
   "metadata": {},
   "outputs": [],
   "source": [
    "def preprocessing(img):\n",
    "    img = cv2.cvtColor(img,cv2.COLOR_BGR2GRAY) #그레이스케일\n",
    "    img = cv2.equalizeHist(img) #이퀄라이징\n",
    "    img = img/255\n",
    "    return img"
   ]
  },
  {
   "cell_type": "code",
   "execution_count": 7,
   "metadata": {},
   "outputs": [],
   "source": [
    "X_train=np.array(list(map(preprocessing,X_train))) #차원 변환\n",
    "X_validation=np.array(list(map(preprocessing,X_validation)))\n",
    "X_test=np.array(list(map(preprocessing,X_test)))"
   ]
  },
  {
   "cell_type": "code",
   "execution_count": 8,
   "metadata": {},
   "outputs": [
    {
     "name": "stdout",
     "output_type": "stream",
     "text": [
      "(2563, 32, 32)\n"
     ]
    }
   ],
   "source": [
    "print(X_train.shape)"
   ]
  },
  {
   "cell_type": "code",
   "execution_count": 9,
   "metadata": {},
   "outputs": [],
   "source": [
    "X_train=X_train.reshape(X_train.shape[0],X_train.shape[1],X_train.shape[2],1)\n",
    "X_validation=X_validation.reshape(X_validation.shape[0],X_validation.shape[1],X_validation.shape[2],1)\n",
    "X_test=X_test.reshape(X_test.shape[0],X_test.shape[1],X_test.shape[2],1)"
   ]
  },
  {
   "cell_type": "code",
   "execution_count": 10,
   "metadata": {},
   "outputs": [
    {
     "name": "stdout",
     "output_type": "stream",
     "text": [
      "(2563, 32, 32, 1)\n"
     ]
    }
   ],
   "source": [
    "print(X_train.shape)"
   ]
  },
  {
   "cell_type": "code",
   "execution_count": 11,
   "metadata": {},
   "outputs": [],
   "source": [
    "from keras.preprocessing.image import ImageDataGenerator\n",
    "\n",
    "dataGen= ImageDataGenerator(width_shift_range=0.1,\n",
    "                            height_shift_range=0.1,\n",
    "                            shear_range=0.1,  \n",
    "                            rotation_range=10)  \n",
    "dataGen.fit(X_train)"
   ]
  },
  {
   "cell_type": "code",
   "execution_count": 12,
   "metadata": {},
   "outputs": [],
   "source": [
    "from keras.utils.np_utils import to_categorical\n",
    "\n",
    "y_train = to_categorical(y_train,Classes)\n",
    "y_validation = to_categorical(y_validation,Classes)\n",
    "y_test = to_categorical(y_test,Classes)"
   ]
  },
  {
   "cell_type": "code",
   "execution_count": 13,
   "metadata": {},
   "outputs": [],
   "source": [
    "from keras.models import Sequential \n",
    "from keras.layers import Dense ,Dropout, Flatten \n",
    "from keras.optimizers import Adam\n",
    "from keras.layers.convolutional import Conv2D, MaxPooling2D\n",
    "\n",
    "image_size = (32,32,3)"
   ]
  },
  {
   "cell_type": "code",
   "execution_count": 14,
   "metadata": {},
   "outputs": [],
   "source": [
    "def myModel():\n",
    "    no_Of_Filters=60\n",
    "    size_of_Filter=(5,5)\n",
    "    size_of_Filter2=(3,3)\n",
    "    size_of_pool=(2,2)\n",
    "    no_Of_Nodes = 500\n",
    "    model= Sequential()\n",
    "    model.add((Conv2D(no_Of_Filters,size_of_Filter,\n",
    "                      input_shape=(image_size[0],image_size[1],1),\n",
    "                      activation='relu')))\n",
    "    model.add((Conv2D(no_Of_Filters, size_of_Filter, activation='relu')))\n",
    "    model.add(MaxPooling2D(pool_size=size_of_pool))\n",
    " \n",
    "    model.add((Conv2D(no_Of_Filters//2, size_of_Filter2, activation='relu')))\n",
    "    model.add((Conv2D(no_Of_Filters//2, size_of_Filter2, activation='relu')))\n",
    "    model.add(MaxPooling2D(pool_size=size_of_pool))\n",
    "    model.add(Dropout(0.5))\n",
    " \n",
    "    model.add(Flatten())\n",
    "    model.add(Dense(no_Of_Nodes,activation='relu'))\n",
    "    model.add(Dropout(0.5))\n",
    "    model.add(Dense(Classes,activation='softmax'))\n",
    "    # COMPILE MODEL\n",
    "    model.compile(Adam(learning_rate=0.001),loss='categorical_crossentropy',metrics=['accuracy'])\n",
    "    return model"
   ]
  },
  {
   "cell_type": "code",
   "execution_count": 15,
   "metadata": {},
   "outputs": [
    {
     "name": "stdout",
     "output_type": "stream",
     "text": [
      "Model: \"sequential\"\n",
      "_________________________________________________________________\n",
      "Layer (type)                 Output Shape              Param #   \n",
      "=================================================================\n",
      "conv2d (Conv2D)              (None, 28, 28, 60)        1560      \n",
      "_________________________________________________________________\n",
      "conv2d_1 (Conv2D)            (None, 24, 24, 60)        90060     \n",
      "_________________________________________________________________\n",
      "max_pooling2d (MaxPooling2D) (None, 12, 12, 60)        0         \n",
      "_________________________________________________________________\n",
      "conv2d_2 (Conv2D)            (None, 10, 10, 30)        16230     \n",
      "_________________________________________________________________\n",
      "conv2d_3 (Conv2D)            (None, 8, 8, 30)          8130      \n",
      "_________________________________________________________________\n",
      "max_pooling2d_1 (MaxPooling2 (None, 4, 4, 30)          0         \n",
      "_________________________________________________________________\n",
      "dropout (Dropout)            (None, 4, 4, 30)          0         \n",
      "_________________________________________________________________\n",
      "flatten (Flatten)            (None, 480)               0         \n",
      "_________________________________________________________________\n",
      "dense (Dense)                (None, 500)               240500    \n",
      "_________________________________________________________________\n",
      "dropout_1 (Dropout)          (None, 500)               0         \n",
      "_________________________________________________________________\n",
      "dense_1 (Dense)              (None, 3)                 1503      \n",
      "=================================================================\n",
      "Total params: 357,983\n",
      "Trainable params: 357,983\n",
      "Non-trainable params: 0\n",
      "_________________________________________________________________\n",
      "None\n"
     ]
    }
   ],
   "source": [
    "model = myModel()\n",
    "print(model.summary())"
   ]
  },
  {
   "cell_type": "code",
   "execution_count": 19,
   "metadata": {},
   "outputs": [],
   "source": [
    "import math\n",
    "\n",
    "batch_size_val = 50 #데이터 집단\n",
    "steps_per_epoch_val = math.floor(len(X_train)/batch_size_val) #학습 1회시 사용되는 batch 집단의 수(X_tring이 2555라면 batch * steps_per_epoch_val은 2600을 넘어선 안됨)\n",
    "epochs_val=100 #학습을 행할 횟수"
   ]
  },
  {
   "cell_type": "code",
   "execution_count": 20,
   "metadata": {},
   "outputs": [
    {
     "name": "stdout",
     "output_type": "stream",
     "text": [
      "2563\n",
      "51\n"
     ]
    }
   ],
   "source": [
    "print(len(X_train))\n",
    "print(steps_per_epoch_val)"
   ]
  },
  {
   "cell_type": "code",
   "execution_count": 21,
   "metadata": {
    "scrolled": false
   },
   "outputs": [
    {
     "name": "stdout",
     "output_type": "stream",
     "text": [
      "Epoch 1/100\n",
      "51/51 [==============================] - 4s 88ms/step - loss: 0.0559 - accuracy: 0.9829 - val_loss: 0.0079 - val_accuracy: 1.0000\n",
      "Epoch 2/100\n",
      "51/51 [==============================] - 4s 86ms/step - loss: 0.0346 - accuracy: 0.9877 - val_loss: 0.0020 - val_accuracy: 1.0000\n",
      "Epoch 3/100\n",
      "51/51 [==============================] - 4s 87ms/step - loss: 0.0256 - accuracy: 0.9908 - val_loss: 8.6133e-04 - val_accuracy: 1.0000\n",
      "Epoch 4/100\n",
      "51/51 [==============================] - 4s 86ms/step - loss: 0.0489 - accuracy: 0.9821 - val_loss: 0.0090 - val_accuracy: 0.9969\n",
      "Epoch 5/100\n",
      "51/51 [==============================] - 4s 86ms/step - loss: 0.0207 - accuracy: 0.9944 - val_loss: 0.0018 - val_accuracy: 1.0000\n",
      "Epoch 6/100\n",
      "51/51 [==============================] - 4s 85ms/step - loss: 0.0250 - accuracy: 0.9908 - val_loss: 0.0054 - val_accuracy: 0.9984\n",
      "Epoch 7/100\n",
      "51/51 [==============================] - 4s 86ms/step - loss: 0.0313 - accuracy: 0.9885 - val_loss: 0.0029 - val_accuracy: 1.0000\n",
      "Epoch 8/100\n",
      "51/51 [==============================] - 4s 86ms/step - loss: 0.0217 - accuracy: 0.9920 - val_loss: 0.0016 - val_accuracy: 1.0000\n",
      "Epoch 9/100\n",
      "51/51 [==============================] - 4s 86ms/step - loss: 0.0260 - accuracy: 0.9920 - val_loss: 0.0015 - val_accuracy: 1.0000\n",
      "Epoch 10/100\n",
      "51/51 [==============================] - 4s 86ms/step - loss: 0.0345 - accuracy: 0.9881 - val_loss: 7.9391e-04 - val_accuracy: 1.0000\n",
      "Epoch 11/100\n",
      "51/51 [==============================] - 4s 86ms/step - loss: 0.0184 - accuracy: 0.9940 - val_loss: 4.6920e-04 - val_accuracy: 1.0000\n",
      "Epoch 12/100\n",
      "51/51 [==============================] - 4s 86ms/step - loss: 0.0248 - accuracy: 0.9920 - val_loss: 0.0030 - val_accuracy: 0.9984\n",
      "Epoch 13/100\n",
      "51/51 [==============================] - 5s 89ms/step - loss: 0.0113 - accuracy: 0.9976 - val_loss: 3.8409e-04 - val_accuracy: 1.0000\n",
      "Epoch 14/100\n",
      "51/51 [==============================] - 4s 86ms/step - loss: 0.0157 - accuracy: 0.9944 - val_loss: 0.0013 - val_accuracy: 1.0000\n",
      "Epoch 15/100\n",
      "51/51 [==============================] - 4s 87ms/step - loss: 0.0050 - accuracy: 0.9988 - val_loss: 2.3977e-04 - val_accuracy: 1.0000\n",
      "Epoch 16/100\n",
      "51/51 [==============================] - 4s 86ms/step - loss: 0.0044 - accuracy: 0.9992 - val_loss: 4.6020e-04 - val_accuracy: 1.0000\n",
      "Epoch 17/100\n",
      "51/51 [==============================] - 4s 87ms/step - loss: 0.0054 - accuracy: 0.9980 - val_loss: 2.2326e-04 - val_accuracy: 1.0000\n",
      "Epoch 18/100\n",
      "51/51 [==============================] - 4s 86ms/step - loss: 0.0209 - accuracy: 0.9928 - val_loss: 0.0016 - val_accuracy: 1.0000\n",
      "Epoch 19/100\n",
      "51/51 [==============================] - 4s 85ms/step - loss: 0.0188 - accuracy: 0.9952 - val_loss: 1.1225e-04 - val_accuracy: 1.0000\n",
      "Epoch 20/100\n",
      "51/51 [==============================] - 4s 86ms/step - loss: 0.0063 - accuracy: 0.9984 - val_loss: 3.2328e-04 - val_accuracy: 1.0000\n",
      "Epoch 21/100\n",
      "51/51 [==============================] - 4s 87ms/step - loss: 0.0431 - accuracy: 0.9873 - val_loss: 3.0409e-04 - val_accuracy: 1.0000\n",
      "Epoch 22/100\n",
      "51/51 [==============================] - 4s 87ms/step - loss: 0.0086 - accuracy: 0.9972 - val_loss: 4.7568e-04 - val_accuracy: 1.0000\n",
      "Epoch 23/100\n",
      "51/51 [==============================] - 4s 86ms/step - loss: 0.0059 - accuracy: 0.9972 - val_loss: 2.2358e-04 - val_accuracy: 1.0000\n",
      "Epoch 24/100\n",
      "51/51 [==============================] - 4s 87ms/step - loss: 0.0045 - accuracy: 0.9980 - val_loss: 6.1007e-04 - val_accuracy: 1.0000\n",
      "Epoch 25/100\n",
      "51/51 [==============================] - 4s 86ms/step - loss: 0.0034 - accuracy: 0.9988 - val_loss: 1.0713e-05 - val_accuracy: 1.0000\n",
      "Epoch 26/100\n",
      "51/51 [==============================] - 4s 87ms/step - loss: 0.0013 - accuracy: 0.9996 - val_loss: 1.5364e-04 - val_accuracy: 1.0000\n",
      "Epoch 27/100\n",
      "51/51 [==============================] - 4s 86ms/step - loss: 0.0014 - accuracy: 0.9992 - val_loss: 1.2861e-05 - val_accuracy: 1.0000\n",
      "Epoch 28/100\n",
      "51/51 [==============================] - 4s 85ms/step - loss: 0.0017 - accuracy: 0.9996 - val_loss: 1.1458e-05 - val_accuracy: 1.0000\n",
      "Epoch 29/100\n",
      "51/51 [==============================] - 4s 85ms/step - loss: 0.0100 - accuracy: 0.9976 - val_loss: 0.0011 - val_accuracy: 1.0000\n",
      "Epoch 30/100\n",
      "51/51 [==============================] - 4s 85ms/step - loss: 0.0074 - accuracy: 0.9964 - val_loss: 9.8502e-05 - val_accuracy: 1.0000\n",
      "Epoch 31/100\n",
      "51/51 [==============================] - 4s 85ms/step - loss: 0.0180 - accuracy: 0.9932 - val_loss: 7.5386e-04 - val_accuracy: 1.0000\n",
      "Epoch 32/100\n",
      "51/51 [==============================] - 4s 86ms/step - loss: 0.0319 - accuracy: 0.9920 - val_loss: 3.8319e-05 - val_accuracy: 1.0000\n",
      "Epoch 33/100\n",
      "51/51 [==============================] - 4s 86ms/step - loss: 0.0613 - accuracy: 0.9821 - val_loss: 0.0030 - val_accuracy: 1.0000\n",
      "Epoch 34/100\n",
      "51/51 [==============================] - 4s 86ms/step - loss: 0.0200 - accuracy: 0.9940 - val_loss: 2.7662e-04 - val_accuracy: 1.0000\n",
      "Epoch 35/100\n",
      "51/51 [==============================] - 4s 86ms/step - loss: 0.0069 - accuracy: 0.9976 - val_loss: 0.0027 - val_accuracy: 1.0000\n",
      "Epoch 36/100\n",
      "51/51 [==============================] - 4s 87ms/step - loss: 0.0178 - accuracy: 0.9944 - val_loss: 5.7011e-05 - val_accuracy: 1.0000\n",
      "Epoch 37/100\n",
      "51/51 [==============================] - 4s 86ms/step - loss: 0.0046 - accuracy: 0.9980 - val_loss: 2.4166e-05 - val_accuracy: 1.0000\n",
      "Epoch 38/100\n",
      "51/51 [==============================] - 4s 86ms/step - loss: 0.0028 - accuracy: 0.9984 - val_loss: 8.3385e-06 - val_accuracy: 1.0000\n",
      "Epoch 39/100\n",
      "51/51 [==============================] - 4s 87ms/step - loss: 0.0134 - accuracy: 0.9948 - val_loss: 1.4818e-04 - val_accuracy: 1.0000\n",
      "Epoch 40/100\n",
      "51/51 [==============================] - 5s 88ms/step - loss: 0.0114 - accuracy: 0.9968 - val_loss: 0.0027 - val_accuracy: 1.0000\n",
      "Epoch 41/100\n",
      "51/51 [==============================] - 5s 89ms/step - loss: 0.0051 - accuracy: 0.9976 - val_loss: 6.7557e-05 - val_accuracy: 1.0000\n",
      "Epoch 42/100\n",
      "51/51 [==============================] - 4s 88ms/step - loss: 0.0025 - accuracy: 0.9988 - val_loss: 1.6105e-06 - val_accuracy: 1.0000\n",
      "Epoch 43/100\n",
      "51/51 [==============================] - 4s 86ms/step - loss: 0.0050 - accuracy: 0.9984 - val_loss: 2.2960e-05 - val_accuracy: 1.0000\n",
      "Epoch 44/100\n",
      "51/51 [==============================] - 4s 86ms/step - loss: 0.0117 - accuracy: 0.9960 - val_loss: 5.4971e-04 - val_accuracy: 1.0000\n",
      "Epoch 45/100\n",
      "51/51 [==============================] - 4s 87ms/step - loss: 0.0073 - accuracy: 0.9984 - val_loss: 4.9380e-06 - val_accuracy: 1.0000\n",
      "Epoch 46/100\n",
      "51/51 [==============================] - 4s 86ms/step - loss: 0.0078 - accuracy: 0.9976 - val_loss: 5.1271e-05 - val_accuracy: 1.0000\n",
      "Epoch 47/100\n",
      "51/51 [==============================] - 4s 87ms/step - loss: 0.0021 - accuracy: 0.9992 - val_loss: 1.7729e-06 - val_accuracy: 1.0000\n",
      "Epoch 48/100\n",
      "51/51 [==============================] - 4s 86ms/step - loss: 0.0070 - accuracy: 0.9980 - val_loss: 8.9946e-05 - val_accuracy: 1.0000\n",
      "Epoch 49/100\n",
      "51/51 [==============================] - 4s 86ms/step - loss: 0.0018 - accuracy: 0.9996 - val_loss: 4.4812e-06 - val_accuracy: 1.0000\n",
      "Epoch 50/100\n",
      "51/51 [==============================] - 4s 86ms/step - loss: 0.0019 - accuracy: 0.9992 - val_loss: 1.2470e-05 - val_accuracy: 1.0000\n",
      "Epoch 51/100\n",
      "51/51 [==============================] - 4s 86ms/step - loss: 0.0051 - accuracy: 0.9976 - val_loss: 3.8800e-05 - val_accuracy: 1.0000\n",
      "Epoch 52/100\n",
      "51/51 [==============================] - 4s 85ms/step - loss: 0.0023 - accuracy: 0.9988 - val_loss: 0.0012 - val_accuracy: 0.9984\n",
      "Epoch 53/100\n",
      "51/51 [==============================] - 4s 86ms/step - loss: 0.0053 - accuracy: 0.9980 - val_loss: 9.9235e-06 - val_accuracy: 1.0000\n",
      "Epoch 54/100\n",
      "51/51 [==============================] - 4s 87ms/step - loss: 0.0080 - accuracy: 0.9960 - val_loss: 0.0042 - val_accuracy: 0.9984\n",
      "Epoch 55/100\n",
      "51/51 [==============================] - 4s 86ms/step - loss: 0.0174 - accuracy: 0.9960 - val_loss: 3.0391e-05 - val_accuracy: 1.0000\n",
      "Epoch 56/100\n",
      "51/51 [==============================] - 4s 86ms/step - loss: 0.0018 - accuracy: 1.0000 - val_loss: 4.8514e-06 - val_accuracy: 1.0000\n",
      "Epoch 57/100\n"
     ]
    },
    {
     "name": "stdout",
     "output_type": "stream",
     "text": [
      "51/51 [==============================] - 4s 86ms/step - loss: 0.0209 - accuracy: 0.9948 - val_loss: 5.7228e-05 - val_accuracy: 1.0000\n",
      "Epoch 58/100\n",
      "51/51 [==============================] - 4s 86ms/step - loss: 0.0085 - accuracy: 0.9984 - val_loss: 6.8318e-05 - val_accuracy: 1.0000\n",
      "Epoch 59/100\n",
      "51/51 [==============================] - 4s 87ms/step - loss: 0.0067 - accuracy: 0.9980 - val_loss: 1.1486e-05 - val_accuracy: 1.0000\n",
      "Epoch 60/100\n",
      "51/51 [==============================] - 4s 86ms/step - loss: 0.0013 - accuracy: 0.9996 - val_loss: 4.2588e-06 - val_accuracy: 1.0000\n",
      "Epoch 61/100\n",
      "51/51 [==============================] - 4s 86ms/step - loss: 0.0018 - accuracy: 0.9992 - val_loss: 2.1438e-05 - val_accuracy: 1.0000\n",
      "Epoch 62/100\n",
      "51/51 [==============================] - 4s 87ms/step - loss: 0.0066 - accuracy: 0.9976 - val_loss: 0.0022 - val_accuracy: 1.0000\n",
      "Epoch 63/100\n",
      "51/51 [==============================] - 4s 87ms/step - loss: 0.0055 - accuracy: 0.9980 - val_loss: 1.4058e-05 - val_accuracy: 1.0000\n",
      "Epoch 64/100\n",
      "51/51 [==============================] - 4s 87ms/step - loss: 0.0087 - accuracy: 0.9972 - val_loss: 2.6251e-05 - val_accuracy: 1.0000\n",
      "Epoch 65/100\n",
      "51/51 [==============================] - 4s 87ms/step - loss: 0.0054 - accuracy: 0.9984 - val_loss: 1.8570e-05 - val_accuracy: 1.0000\n",
      "Epoch 66/100\n",
      "51/51 [==============================] - 4s 87ms/step - loss: 0.0319 - accuracy: 0.9920 - val_loss: 0.0113 - val_accuracy: 0.9984\n",
      "Epoch 67/100\n",
      "51/51 [==============================] - 4s 87ms/step - loss: 0.0118 - accuracy: 0.9964 - val_loss: 6.6717e-06 - val_accuracy: 1.0000\n",
      "Epoch 68/100\n",
      "51/51 [==============================] - 4s 86ms/step - loss: 0.0032 - accuracy: 0.9996 - val_loss: 0.0019 - val_accuracy: 0.9984\n",
      "Epoch 69/100\n",
      "51/51 [==============================] - 4s 86ms/step - loss: 0.0048 - accuracy: 0.9984 - val_loss: 0.0021 - val_accuracy: 0.9984\n",
      "Epoch 70/100\n",
      "51/51 [==============================] - 4s 86ms/step - loss: 0.0032 - accuracy: 0.9988 - val_loss: 1.3409e-06 - val_accuracy: 1.0000\n",
      "Epoch 71/100\n",
      "51/51 [==============================] - 4s 86ms/step - loss: 0.0018 - accuracy: 0.9988 - val_loss: 1.1979e-06 - val_accuracy: 1.0000\n",
      "Epoch 72/100\n",
      "51/51 [==============================] - 4s 86ms/step - loss: 3.4729e-04 - accuracy: 1.0000 - val_loss: 1.0879e-06 - val_accuracy: 1.0000\n",
      "Epoch 73/100\n",
      "51/51 [==============================] - 4s 87ms/step - loss: 0.0013 - accuracy: 0.9996 - val_loss: 1.2244e-05 - val_accuracy: 1.0000\n",
      "Epoch 74/100\n",
      "51/51 [==============================] - 4s 86ms/step - loss: 8.7464e-04 - accuracy: 0.9996 - val_loss: 2.9252e-07 - val_accuracy: 1.0000\n",
      "Epoch 75/100\n",
      "51/51 [==============================] - 4s 86ms/step - loss: 0.0119 - accuracy: 0.9972 - val_loss: 1.9691e-04 - val_accuracy: 1.0000\n",
      "Epoch 76/100\n",
      "51/51 [==============================] - 4s 87ms/step - loss: 0.0144 - accuracy: 0.9956 - val_loss: 2.3054e-05 - val_accuracy: 1.0000\n",
      "Epoch 77/100\n",
      "51/51 [==============================] - 4s 86ms/step - loss: 0.0078 - accuracy: 0.9976 - val_loss: 3.8476e-06 - val_accuracy: 1.0000\n",
      "Epoch 78/100\n",
      "51/51 [==============================] - 4s 86ms/step - loss: 0.0031 - accuracy: 0.9988 - val_loss: 6.7711e-05 - val_accuracy: 1.0000\n",
      "Epoch 79/100\n",
      "51/51 [==============================] - 4s 86ms/step - loss: 0.0095 - accuracy: 0.9964 - val_loss: 1.8695e-04 - val_accuracy: 1.0000\n",
      "Epoch 80/100\n",
      "51/51 [==============================] - 4s 87ms/step - loss: 0.0011 - accuracy: 0.9996 - val_loss: 8.1399e-07 - val_accuracy: 1.0000\n",
      "Epoch 81/100\n",
      "51/51 [==============================] - 4s 86ms/step - loss: 0.0013 - accuracy: 0.9992 - val_loss: 7.1244e-07 - val_accuracy: 1.0000\n",
      "Epoch 82/100\n",
      "51/51 [==============================] - 4s 86ms/step - loss: 0.0030 - accuracy: 0.9984 - val_loss: 3.1589e-05 - val_accuracy: 1.0000\n",
      "Epoch 83/100\n",
      "51/51 [==============================] - 4s 86ms/step - loss: 8.9286e-04 - accuracy: 1.0000 - val_loss: 5.9205e-06 - val_accuracy: 1.0000\n",
      "Epoch 84/100\n",
      "51/51 [==============================] - 4s 86ms/step - loss: 0.0134 - accuracy: 0.9972 - val_loss: 0.0084 - val_accuracy: 0.9984\n",
      "Epoch 85/100\n",
      "51/51 [==============================] - 4s 86ms/step - loss: 0.0170 - accuracy: 0.9940 - val_loss: 0.0269 - val_accuracy: 0.9953\n",
      "Epoch 86/100\n",
      "51/51 [==============================] - 4s 86ms/step - loss: 0.0098 - accuracy: 0.9964 - val_loss: 8.2827e-07 - val_accuracy: 1.0000\n",
      "Epoch 87/100\n",
      "51/51 [==============================] - 4s 86ms/step - loss: 0.0082 - accuracy: 0.9984 - val_loss: 8.4976e-05 - val_accuracy: 1.0000\n",
      "Epoch 88/100\n",
      "51/51 [==============================] - 4s 86ms/step - loss: 0.0109 - accuracy: 0.9968 - val_loss: 1.0177e-04 - val_accuracy: 1.0000\n",
      "Epoch 89/100\n",
      "51/51 [==============================] - 4s 86ms/step - loss: 0.0150 - accuracy: 0.9952 - val_loss: 7.1536e-06 - val_accuracy: 1.0000\n",
      "Epoch 90/100\n",
      "51/51 [==============================] - 4s 85ms/step - loss: 0.0062 - accuracy: 0.9992 - val_loss: 0.0021 - val_accuracy: 0.9984\n",
      "Epoch 91/100\n",
      "51/51 [==============================] - 4s 86ms/step - loss: 0.0042 - accuracy: 0.9976 - val_loss: 2.1992e-06 - val_accuracy: 1.0000\n",
      "Epoch 92/100\n",
      "51/51 [==============================] - 4s 86ms/step - loss: 0.0011 - accuracy: 0.9996 - val_loss: 1.3078e-06 - val_accuracy: 1.0000\n",
      "Epoch 93/100\n",
      "51/51 [==============================] - 4s 87ms/step - loss: 0.0020 - accuracy: 0.9996 - val_loss: 5.5691e-06 - val_accuracy: 1.0000\n",
      "Epoch 94/100\n",
      "51/51 [==============================] - 4s 86ms/step - loss: 0.0233 - accuracy: 0.9928 - val_loss: 0.0016 - val_accuracy: 1.0000\n",
      "Epoch 95/100\n",
      "51/51 [==============================] - 4s 86ms/step - loss: 0.0530 - accuracy: 0.9853 - val_loss: 0.0017 - val_accuracy: 0.9984\n",
      "Epoch 96/100\n",
      "51/51 [==============================] - 4s 86ms/step - loss: 0.0112 - accuracy: 0.9960 - val_loss: 2.5035e-05 - val_accuracy: 1.0000\n",
      "Epoch 97/100\n",
      "51/51 [==============================] - 4s 86ms/step - loss: 0.0098 - accuracy: 0.9972 - val_loss: 2.0622e-05 - val_accuracy: 1.0000\n",
      "Epoch 98/100\n",
      "51/51 [==============================] - 4s 86ms/step - loss: 0.0012 - accuracy: 0.9996 - val_loss: 6.6101e-06 - val_accuracy: 1.0000\n",
      "Epoch 99/100\n",
      "51/51 [==============================] - 4s 86ms/step - loss: 0.0015 - accuracy: 0.9992 - val_loss: 7.2113e-06 - val_accuracy: 1.0000\n",
      "Epoch 100/100\n",
      "51/51 [==============================] - 4s 86ms/step - loss: 0.0017 - accuracy: 0.9996 - val_loss: 5.2398e-06 - val_accuracy: 1.0000\n"
     ]
    }
   ],
   "source": [
    "result=model.fit(dataGen.flow(X_train,y_train,batch_size=batch_size_val),\n",
    "                 steps_per_epoch=steps_per_epoch_val,epochs=epochs_val,\n",
    "                 validation_data=(X_validation,y_validation),shuffle=1)"
   ]
  },
  {
   "cell_type": "code",
   "execution_count": 22,
   "metadata": {
    "scrolled": true
   },
   "outputs": [
    {
     "name": "stdout",
     "output_type": "stream",
     "text": [
      "Test Score: 7.936586371215526e-06\n",
      "Test Accuracy: 1.0\n"
     ]
    }
   ],
   "source": [
    "score = model.evaluate(X_test,y_test,verbose=0)\n",
    "print('Test Score:',score[0])\n",
    "print('Test Accuracy:',score[1])\n",
    "\n",
    "model_save_path = 'C:/Users/KangDongha/Desktop/sign/model_trained_data.h5'\n",
    "model.save(model_save_path)"
   ]
  },
  {
   "cell_type": "code",
   "execution_count": 23,
   "metadata": {},
   "outputs": [
    {
     "name": "stdout",
     "output_type": "stream",
     "text": [
      "2563\n",
      "801\n"
     ]
    }
   ],
   "source": [
    "print(len(X_train)) #batch_size\n",
    "print(len(X_test)) #if you have test data"
   ]
  }
 ],
 "metadata": {
  "kernelspec": {
   "display_name": "Python 3",
   "language": "python",
   "name": "python3"
  },
  "language_info": {
   "codemirror_mode": {
    "name": "ipython",
    "version": 3
   },
   "file_extension": ".py",
   "mimetype": "text/x-python",
   "name": "python",
   "nbconvert_exporter": "python",
   "pygments_lexer": "ipython3",
   "version": "3.8.10"
  }
 },
 "nbformat": 4,
 "nbformat_minor": 2
}
