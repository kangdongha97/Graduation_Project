{
 "cells": [
  {
   "cell_type": "code",
   "execution_count": 113,
   "id": "9c6bb58e",
   "metadata": {},
   "outputs": [],
   "source": [
    "from keras.models import load_model\n",
    "\n",
    "model_save_path = 'C:/Users/KangDongha/Desktop/sign/model_trained_data.h5' #모델 파일의 경로\n",
    "model = load_model(model_save_path) #모델 로드"
   ]
  },
  {
   "cell_type": "code",
   "execution_count": 2,
   "id": "3efaba91",
   "metadata": {},
   "outputs": [],
   "source": [
    "import shutil\n",
    "\n",
    "try:\n",
    "    shutil.move('C:/Users/KangDongha/Desktop/U_turn.png', 'C:/Users/KangDongha/Desktop/sign') #현재위치, 타겟위치\n",
    "except:\n",
    "    pass"
   ]
  },
  {
   "cell_type": "code",
   "execution_count": 3,
   "id": "0c61c08d",
   "metadata": {},
   "outputs": [
    {
     "ename": "FileExistsError",
     "evalue": "[WinError 183] 파일이 이미 있으므로 만들 수 없습니다: 'C:/Users/KangDongha/Desktop/sign\\\\G_E'",
     "output_type": "error",
     "traceback": [
      "\u001b[1;31m---------------------------------------------------------------------------\u001b[0m",
      "\u001b[1;31mFileExistsError\u001b[0m                           Traceback (most recent call last)",
      "\u001b[1;32m<ipython-input-3-ddbd0b489aeb>\u001b[0m in \u001b[0;36m<module>\u001b[1;34m\u001b[0m\n\u001b[0;32m      2\u001b[0m \u001b[1;33m\u001b[0m\u001b[0m\n\u001b[0;32m      3\u001b[0m \u001b[0mFileName_G_E\u001b[0m \u001b[1;33m=\u001b[0m \u001b[1;34m'G_E'\u001b[0m\u001b[1;33m\u001b[0m\u001b[1;33m\u001b[0m\u001b[0m\n\u001b[1;32m----> 4\u001b[1;33m \u001b[0mos\u001b[0m\u001b[1;33m.\u001b[0m\u001b[0mmakedirs\u001b[0m\u001b[1;33m(\u001b[0m\u001b[1;34m'C:/Users/KangDongha/Desktop/sign'\u001b[0m \u001b[1;33m+\u001b[0m \u001b[1;34mf'\\\\{FileName_G_E}'\u001b[0m\u001b[1;33m)\u001b[0m\u001b[1;33m\u001b[0m\u001b[1;33m\u001b[0m\u001b[0m\n\u001b[0m",
      "\u001b[1;32mC:\\ProgramData\\Anaconda3\\lib\\os.py\u001b[0m in \u001b[0;36mmakedirs\u001b[1;34m(name, mode, exist_ok)\u001b[0m\n\u001b[0;32m    221\u001b[0m             \u001b[1;32mreturn\u001b[0m\u001b[1;33m\u001b[0m\u001b[1;33m\u001b[0m\u001b[0m\n\u001b[0;32m    222\u001b[0m     \u001b[1;32mtry\u001b[0m\u001b[1;33m:\u001b[0m\u001b[1;33m\u001b[0m\u001b[1;33m\u001b[0m\u001b[0m\n\u001b[1;32m--> 223\u001b[1;33m         \u001b[0mmkdir\u001b[0m\u001b[1;33m(\u001b[0m\u001b[0mname\u001b[0m\u001b[1;33m,\u001b[0m \u001b[0mmode\u001b[0m\u001b[1;33m)\u001b[0m\u001b[1;33m\u001b[0m\u001b[1;33m\u001b[0m\u001b[0m\n\u001b[0m\u001b[0;32m    224\u001b[0m     \u001b[1;32mexcept\u001b[0m \u001b[0mOSError\u001b[0m\u001b[1;33m:\u001b[0m\u001b[1;33m\u001b[0m\u001b[1;33m\u001b[0m\u001b[0m\n\u001b[0;32m    225\u001b[0m         \u001b[1;31m# Cannot rely on checking for EEXIST, since the operating system\u001b[0m\u001b[1;33m\u001b[0m\u001b[1;33m\u001b[0m\u001b[1;33m\u001b[0m\u001b[0m\n",
      "\u001b[1;31mFileExistsError\u001b[0m: [WinError 183] 파일이 이미 있으므로 만들 수 없습니다: 'C:/Users/KangDongha/Desktop/sign\\\\G_E'"
     ]
    }
   ],
   "source": [
    "import os\n",
    "\n",
    "FileName_G_E = 'G_E'\n",
    "os.makedirs('C:/Users/KangDongha/Desktop/sign' + f'\\\\{FileName_G_E}')"
   ]
  },
  {
   "cell_type": "code",
   "execution_count": 1,
   "id": "eeba1d23",
   "metadata": {},
   "outputs": [
    {
     "name": "stdout",
     "output_type": "stream",
     "text": [
      "C:/Users/KangDongha/Desktop/sign\n"
     ]
    }
   ],
   "source": [
    "U_img = 'C:/Users/KangDongha/Desktop/sign'\n",
    "print(U_img)"
   ]
  },
  {
   "cell_type": "code",
   "execution_count": 6,
   "id": "ce6a1fe3",
   "metadata": {},
   "outputs": [],
   "source": [
    "from keras.preprocessing import image\n",
    "\n",
    "U_img_path = os.path.join(U_img, 'U_turn.PNG') #파일 경로, 파일 이름\n",
    "\n",
    "U_img_load = image.load_img(U_img_path)"
   ]
  },
  {
   "cell_type": "code",
   "execution_count": 95,
   "id": "35d67f90",
   "metadata": {},
   "outputs": [
    {
     "name": "stdout",
     "output_type": "stream",
     "text": [
      "<PIL.Image.Image image mode=RGB size=254x190 at 0x242BB2E9F40>\n"
     ]
    }
   ],
   "source": [
    "print(U_img_load)"
   ]
  },
  {
   "cell_type": "code",
   "execution_count": 7,
   "id": "5644bd64",
   "metadata": {},
   "outputs": [
    {
     "name": "stdout",
     "output_type": "stream",
     "text": [
      "<class 'numpy.ndarray'>\n"
     ]
    }
   ],
   "source": [
    "#이미지 타입 확인\n",
    "U_img_np = image.img_to_array(U_img_load)\n",
    "\n",
    "print(type(U_img_np))"
   ]
  },
  {
   "cell_type": "code",
   "execution_count": 9,
   "id": "48a90f99",
   "metadata": {},
   "outputs": [
    {
     "data": {
      "text/plain": [
       "True"
      ]
     },
     "execution_count": 9,
     "metadata": {},
     "output_type": "execute_result"
    }
   ],
   "source": [
    "#이미지 파일 저장\n",
    "import cv2\n",
    "import numpy as np\n",
    "\n",
    "#cv2.imwrite('C:/Users/KangDongha/Desktop/sign/G_E/U_turn2.PNG', U_img_np)\n",
    "cv2.imwrite('C:/Users/KangDongha/Desktop/sign/G_E/1.PNG', U_img_np)"
   ]
  },
  {
   "cell_type": "code",
   "execution_count": 98,
   "id": "5e7786e6",
   "metadata": {},
   "outputs": [
    {
     "data": {
      "text/plain": [
       "True"
      ]
     },
     "execution_count": 98,
     "metadata": {},
     "output_type": "execute_result"
    }
   ],
   "source": [
    "#이미지 그레이스케일\n",
    "U_img_Gray = cv2.cvtColor(U_img_np,cv2.COLOR_BGR2GRAY)\n",
    "cv2.imwrite('C:/Users/KangDongha/Desktop/sign/G_E/U_turn3.PNG', U_img_Gray)"
   ]
  },
  {
   "cell_type": "code",
   "execution_count": 14,
   "id": "e82108cb",
   "metadata": {},
   "outputs": [
    {
     "data": {
      "text/plain": [
       "\"사진 해상도 변경 및 확인\\nU_img_Equ = cv2.resize(U_img_np,(64,64))\\ncv2.imwrite('C:/Users/KangDongha/Desktop/sign/G_E/U_turn4-1.PNG', U_img_Equ)\\nU_img_path2 = os.path.join('C:/Users/KangDongha/Desktop', 'U_turn4-1.PNG')\\nU_img_load2 = image.load_img(U_img_path2)\\nprint(U_img_load2)\\n\""
      ]
     },
     "execution_count": 14,
     "metadata": {},
     "output_type": "execute_result"
    }
   ],
   "source": [
    "\"\"\"사진 해상도 변경 및 확인\n",
    "U_img_Equ = cv2.resize(U_img_np,(64,64))\n",
    "cv2.imwrite('C:/Users/KangDongha/Desktop/sign/G_E/U_turn4-1.PNG', U_img_Equ)\n",
    "U_img_path2 = os.path.join('C:/Users/KangDongha/Desktop', 'U_turn4-1.PNG')\n",
    "U_img_load2 = image.load_img(U_img_path2)\n",
    "print(U_img_load2)\n",
    "\"\"\""
   ]
  },
  {
   "cell_type": "code",
   "execution_count": 15,
   "id": "8b19ca8e",
   "metadata": {},
   "outputs": [
    {
     "name": "stdout",
     "output_type": "stream",
     "text": [
      "<class 'numpy.ndarray'>\n",
      "[[ 42  43  44 ...  11  12  13]\n",
      " [ 43  43  43 ...  15  15  15]\n",
      " [ 44  43  43 ...  13  12  11]\n",
      " ...\n",
      " [142 147 152 ... 168 166 165]\n",
      " [145 149 153 ... 168 167 166]\n",
      " [146 149 153 ... 167 167 167]]\n",
      "(372, 580)\n",
      "<class 'int'>\n"
     ]
    },
    {
     "data": {
      "text/plain": [
       "True"
      ]
     },
     "execution_count": 15,
     "metadata": {},
     "output_type": "execute_result"
    }
   ],
   "source": [
    "#이미지 리드 후 이퀄라이징\n",
    "U_img_Equ = cv2.imread(U_img_path, 0)\n",
    "print(type(U_img_Equ))\n",
    "print(U_img_Equ)\n",
    "print(U_img_Equ.shape)\n",
    "print(type(U_img_Equ.shape[0]))\n",
    "U_img_Equ = cv2.equalizeHist(U_img_Equ)\n",
    "cv2.imwrite('C:/Users/KangDongha/Desktop/sign/G_E/U_turn4.PNG', U_img_Equ)"
   ]
  },
  {
   "cell_type": "code",
   "execution_count": 101,
   "id": "24b416f2",
   "metadata": {},
   "outputs": [
    {
     "data": {
      "text/plain": [
       "True"
      ]
     },
     "execution_count": 101,
     "metadata": {},
     "output_type": "execute_result"
    }
   ],
   "source": [
    "#그레이스케일 후 이퀄라이징\n",
    "U_img_path_Gray = os.path.join('C:/Users/KangDongha/Desktop/sign/G_E', 'U_turn3.PNG')\n",
    "U_img_Equ = cv2.imread(U_img_path_Gray, 0)\n",
    "U_img_Equ = cv2.equalizeHist(U_img_Equ)\n",
    "cv2.imwrite('C:/Users/KangDongha/Desktop/sign/G_E/U_turn6.PNG', U_img_Equ)"
   ]
  },
  {
   "cell_type": "code",
   "execution_count": 89,
   "id": "45ccb408",
   "metadata": {},
   "outputs": [],
   "source": [
    "#U_img_Gray = cv2.resize(U_img_Gray, (32, 32))\n",
    "#U_img_Gray = U_img_Gray.reshape(1, 32, 32, 1)"
   ]
  },
  {
   "cell_type": "code",
   "execution_count": 54,
   "id": "172d5074",
   "metadata": {},
   "outputs": [
    {
     "data": {
      "text/plain": [
       "True"
      ]
     },
     "execution_count": 54,
     "metadata": {},
     "output_type": "execute_result"
    }
   ],
   "source": [
    "#cv2.imwrite('C:/Users/KangDongha/Desktop/sign/G_E/U_turn5.PNG', U_img_Gray)"
   ]
  },
  {
   "cell_type": "code",
   "execution_count": 102,
   "id": "dc764f03",
   "metadata": {},
   "outputs": [],
   "source": [
    "U_img_Equ = cv2.resize(U_img_Equ, (32, 32))\n",
    "cv2.imwrite('C:/Users/KangDongha/Desktop/sign/G_E/U_turn7.PNG', U_img_Equ)\n",
    "\n",
    "U_img_Equ = U_img_Equ.reshape(1, 32, 32, 1)"
   ]
  },
  {
   "cell_type": "code",
   "execution_count": 110,
   "id": "43c52977",
   "metadata": {},
   "outputs": [],
   "source": [
    "def predict_class(Pred):\n",
    "    if(classIndex == 0):\n",
    "        print('No Right Turn')\n",
    "    elif(classIndex == 1):\n",
    "        print('Speed Bump')\n",
    "    elif(classIndex == 2):\n",
    "        print('U Turn')"
   ]
  },
  {
   "cell_type": "code",
   "execution_count": 111,
   "id": "f3715378",
   "metadata": {},
   "outputs": [
    {
     "name": "stdout",
     "output_type": "stream",
     "text": [
      "1.0\n",
      "1\n",
      "[2]\n",
      "1\n",
      "U Turn\n"
     ]
    }
   ],
   "source": [
    "predictions = model.predict(U_img_Equ) \n",
    "classIndex = model.predict_classes(U_img_Equ)\n",
    "probabilityValue = np.amax(predictions)\n",
    "print(probabilityValue) #적중률\n",
    "print(len(predictions))\n",
    "print(classIndex) #클래스\n",
    "print(len(U_img_Equ))\n",
    "predict_class(U_img_Equ)"
   ]
  },
  {
   "cell_type": "code",
   "execution_count": 112,
   "id": "48434bf5",
   "metadata": {
    "scrolled": true
   },
   "outputs": [
    {
     "ename": "FileNotFoundError",
     "evalue": "[Errno 2] No such file or directory: 'C:/Users/KangDongha/Desktop/sign\\\\U2.PNG'",
     "output_type": "error",
     "traceback": [
      "\u001b[1;31m---------------------------------------------------------------------------\u001b[0m",
      "\u001b[1;31mFileNotFoundError\u001b[0m                         Traceback (most recent call last)",
      "\u001b[1;32m<ipython-input-112-ba89fbc12158>\u001b[0m in \u001b[0;36m<module>\u001b[1;34m\u001b[0m\n\u001b[0;32m      3\u001b[0m \u001b[0mU_img\u001b[0m \u001b[1;33m=\u001b[0m \u001b[1;34m'C:/Users/KangDongha/Desktop/sign'\u001b[0m\u001b[1;33m\u001b[0m\u001b[1;33m\u001b[0m\u001b[0m\n\u001b[0;32m      4\u001b[0m \u001b[0mU_img_path\u001b[0m \u001b[1;33m=\u001b[0m \u001b[0mos\u001b[0m\u001b[1;33m.\u001b[0m\u001b[0mpath\u001b[0m\u001b[1;33m.\u001b[0m\u001b[0mjoin\u001b[0m\u001b[1;33m(\u001b[0m\u001b[0mU_img\u001b[0m\u001b[1;33m,\u001b[0m \u001b[1;34m'U2.PNG'\u001b[0m\u001b[1;33m)\u001b[0m \u001b[1;31m#파일 경로, 파일 이름\u001b[0m\u001b[1;33m\u001b[0m\u001b[1;33m\u001b[0m\u001b[0m\n\u001b[1;32m----> 5\u001b[1;33m \u001b[0mU_img_load\u001b[0m \u001b[1;33m=\u001b[0m \u001b[0mimage\u001b[0m\u001b[1;33m.\u001b[0m\u001b[0mload_img\u001b[0m\u001b[1;33m(\u001b[0m\u001b[0mU_img_path\u001b[0m\u001b[1;33m)\u001b[0m\u001b[1;33m\u001b[0m\u001b[1;33m\u001b[0m\u001b[0m\n\u001b[0m\u001b[0;32m      6\u001b[0m \u001b[1;33m\u001b[0m\u001b[0m\n\u001b[0;32m      7\u001b[0m \u001b[0mU_img_np\u001b[0m \u001b[1;33m=\u001b[0m \u001b[0mimage\u001b[0m\u001b[1;33m.\u001b[0m\u001b[0mimg_to_array\u001b[0m\u001b[1;33m(\u001b[0m\u001b[0mU_img_load\u001b[0m\u001b[1;33m)\u001b[0m\u001b[1;33m\u001b[0m\u001b[1;33m\u001b[0m\u001b[0m\n",
      "\u001b[1;32mC:\\ProgramData\\Anaconda3\\lib\\site-packages\\tensorflow\\python\\keras\\preprocessing\\image.py\u001b[0m in \u001b[0;36mload_img\u001b[1;34m(path, grayscale, color_mode, target_size, interpolation)\u001b[0m\n\u001b[0;32m    293\u001b[0m       \u001b[0mValueError\u001b[0m\u001b[1;33m:\u001b[0m \u001b[1;32mif\u001b[0m \u001b[0minterpolation\u001b[0m \u001b[0mmethod\u001b[0m \u001b[1;32mis\u001b[0m \u001b[1;32mnot\u001b[0m \u001b[0msupported\u001b[0m\u001b[1;33m.\u001b[0m\u001b[1;33m\u001b[0m\u001b[1;33m\u001b[0m\u001b[0m\n\u001b[0;32m    294\u001b[0m   \"\"\"\n\u001b[1;32m--> 295\u001b[1;33m   return image.load_img(path, grayscale=grayscale, color_mode=color_mode,\n\u001b[0m\u001b[0;32m    296\u001b[0m                         target_size=target_size, interpolation=interpolation)\n\u001b[0;32m    297\u001b[0m \u001b[1;33m\u001b[0m\u001b[0m\n",
      "\u001b[1;32mC:\\ProgramData\\Anaconda3\\lib\\site-packages\\keras_preprocessing\\image\\utils.py\u001b[0m in \u001b[0;36mload_img\u001b[1;34m(path, grayscale, color_mode, target_size, interpolation)\u001b[0m\n\u001b[0;32m    111\u001b[0m         raise ImportError('Could not import PIL.Image. '\n\u001b[0;32m    112\u001b[0m                           'The use of `load_img` requires PIL.')\n\u001b[1;32m--> 113\u001b[1;33m     \u001b[1;32mwith\u001b[0m \u001b[0mopen\u001b[0m\u001b[1;33m(\u001b[0m\u001b[0mpath\u001b[0m\u001b[1;33m,\u001b[0m \u001b[1;34m'rb'\u001b[0m\u001b[1;33m)\u001b[0m \u001b[1;32mas\u001b[0m \u001b[0mf\u001b[0m\u001b[1;33m:\u001b[0m\u001b[1;33m\u001b[0m\u001b[1;33m\u001b[0m\u001b[0m\n\u001b[0m\u001b[0;32m    114\u001b[0m         \u001b[0mimg\u001b[0m \u001b[1;33m=\u001b[0m \u001b[0mpil_image\u001b[0m\u001b[1;33m.\u001b[0m\u001b[0mopen\u001b[0m\u001b[1;33m(\u001b[0m\u001b[0mio\u001b[0m\u001b[1;33m.\u001b[0m\u001b[0mBytesIO\u001b[0m\u001b[1;33m(\u001b[0m\u001b[0mf\u001b[0m\u001b[1;33m.\u001b[0m\u001b[0mread\u001b[0m\u001b[1;33m(\u001b[0m\u001b[1;33m)\u001b[0m\u001b[1;33m)\u001b[0m\u001b[1;33m)\u001b[0m\u001b[1;33m\u001b[0m\u001b[1;33m\u001b[0m\u001b[0m\n\u001b[0;32m    115\u001b[0m         \u001b[1;32mif\u001b[0m \u001b[0mcolor_mode\u001b[0m \u001b[1;33m==\u001b[0m \u001b[1;34m'grayscale'\u001b[0m\u001b[1;33m:\u001b[0m\u001b[1;33m\u001b[0m\u001b[1;33m\u001b[0m\u001b[0m\n",
      "\u001b[1;31mFileNotFoundError\u001b[0m: [Errno 2] No such file or directory: 'C:/Users/KangDongha/Desktop/sign\\\\U2.PNG'"
     ]
    }
   ],
   "source": [
    "#이미지 전처리 위 과정 요약\n",
    "\"\"\"\n",
    "이미지 로드\n",
    "\n",
    "np 형식\n",
    "\n",
    "그레이 스케일\n",
    "\n",
    "이퀄라이징\n",
    "\n",
    "\n",
    "U_img = 'C:/Users/KangDongha/Desktop/sign'\n",
    "U_img_path = os.path.join(U_img, 'U2.PNG') #파일 경로, 파일 이름\n",
    "U_img_load = image.load_img(U_img_path)\n",
    "\n",
    "U_img_np = image.img_to_array(U_img_load)\n",
    "\n",
    "U_img_Equ = cv2.imread(U_img_path, 0)\n",
    "U_img_Equ = cv2.equalizeHist(U_img_Equ)\n",
    "\n",
    "U_img_Equ = cv2.resize(U_img_Equ, (32, 32))\n",
    "U_img_Equ = U_img_Equ.reshape(1, 32, 32, 1)\n",
    "\"\"\""
   ]
  },
  {
   "cell_type": "code",
   "execution_count": null,
   "id": "4651027b",
   "metadata": {},
   "outputs": [],
   "source": [
    "#예측\n",
    "\"\"\"\n",
    "a = model.predict(U_img_Equ)\n",
    "print(a)\n",
    "\"\"\""
   ]
  }
 ],
 "metadata": {
  "kernelspec": {
   "display_name": "Python 3",
   "language": "python",
   "name": "python3"
  },
  "language_info": {
   "codemirror_mode": {
    "name": "ipython",
    "version": 3
   },
   "file_extension": ".py",
   "mimetype": "text/x-python",
   "name": "python",
   "nbconvert_exporter": "python",
   "pygments_lexer": "ipython3",
   "version": "3.8.10"
  }
 },
 "nbformat": 4,
 "nbformat_minor": 5
}
